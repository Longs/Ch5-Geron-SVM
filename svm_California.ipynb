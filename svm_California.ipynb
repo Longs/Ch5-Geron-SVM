{
 "cells": [
  {
   "cell_type": "code",
   "execution_count": 1,
   "metadata": {},
   "outputs": [],
   "source": [
    "from sklearn.datasets import fetch_california_housing\n",
    "\n",
    "dataset = fetch_california_housing()\n",
    "X_full, y_full = dataset.data, dataset.target\n",
    "feature_names = dataset.feature_names"
   ]
  },
  {
   "cell_type": "code",
   "execution_count": 7,
   "metadata": {},
   "outputs": [],
   "source": [
    "from sklearn.model_selection import train_test_split\n",
    "X_train, X_test, y_train, y_test = train_test_split(X_full, y_full,test_size = 0.33, random_state=42)"
   ]
  },
  {
   "cell_type": "code",
   "execution_count": 10,
   "metadata": {},
   "outputs": [],
   "source": [
    "from sklearn.preprocessing import StandardScaler\n",
    "#FIT to the training data then transform training and test data\n",
    "scaler = StandardScaler()\n",
    "X_train_scaled = scaler.fit_transform(X_train)\n",
    "X_test_scaled = scaler.transform(X_test)"
   ]
  },
  {
   "cell_type": "code",
   "execution_count": 11,
   "metadata": {},
   "outputs": [
    {
     "name": "stdout",
     "output_type": "stream",
     "text": [
      "1.348101122840157\n"
     ]
    }
   ],
   "source": [
    "from sklearn.svm import SVR\n",
    "from sklearn.metrics import mean_squared_error\n",
    "\n",
    "svm_poly_reg = SVR(kernel=\"poly\", degree=2, C=100, epsilon=0.1)\n",
    "svm_poly_reg.fit(X_train_scaled, y_train)\n",
    "y_pred = svm_poly_reg.predict(X_test_scaled)\n",
    "print(mean_squared_error(y_test, y_pred))\n",
    "\n"
   ]
  },
  {
   "cell_type": "markdown",
   "metadata": {},
   "source": [
    "### RBF kernel's performance is significantly better:\n"
   ]
  },
  {
   "cell_type": "code",
   "execution_count": 12,
   "metadata": {},
   "outputs": [
    {
     "name": "stdout",
     "output_type": "stream",
     "text": [
      "mse0.31743482649692994 RMSE 0.5634135483789239\n"
     ]
    }
   ],
   "source": [
    "import numpy as np\n",
    "svm_poly_reg = SVR(C=100, epsilon=0.1)\n",
    "svm_poly_reg.fit(X_train_scaled, y_train)\n",
    "y_pred = svm_poly_reg.predict(X_test_scaled)\n",
    "mse = mean_squared_error(y_test, y_pred)\n",
    "print(f\"mse{mse} RMSE {np.sqrt(mse)}\")"
   ]
  },
  {
   "cell_type": "code",
   "execution_count": 13,
   "metadata": {},
   "outputs": [
    {
     "name": "stdout",
     "output_type": "stream",
     "text": [
      "Fitting 3 folds for each of 30 candidates, totalling 90 fits\n",
      "[CV] END .....C=7.713045932283995, gamma=0.00884066642569577; total time=   6.3s\n",
      "[CV] END .....C=7.713045932283995, gamma=0.00884066642569577; total time=   7.0s\n",
      "[CV] END .....C=7.713045932283995, gamma=0.00884066642569577; total time=   6.7s\n",
      "[CV] END ..C=2.5042228146489576, gamma=0.0012603710086651644; total time=   6.9s\n",
      "[CV] END ..C=2.5042228146489576, gamma=0.0012603710086651644; total time=   6.8s\n",
      "[CV] END ..C=2.5042228146489576, gamma=0.0012603710086651644; total time=   6.1s\n",
      "[CV] END ...C=3.487024266376201, gamma=0.0028156969521102326; total time=   6.3s\n",
      "[CV] END ...C=3.487024266376201, gamma=0.0028156969521102326; total time=   6.6s\n",
      "[CV] END ...C=3.487024266376201, gamma=0.0028156969521102326; total time=   6.4s\n",
      "[CV] END ..C=10.152290247045073, gamma=0.0021592992405838804; total time=   6.4s\n",
      "[CV] END ..C=10.152290247045073, gamma=0.0021592992405838804; total time=   6.7s\n",
      "[CV] END ..C=10.152290247045073, gamma=0.0021592992405838804; total time=   6.6s\n",
      "[CV] END ....C=10.600473507235709, gamma=0.01776084519311968; total time=   6.8s\n",
      "[CV] END ....C=10.600473507235709, gamma=0.01776084519311968; total time=   6.6s\n",
      "[CV] END ....C=10.600473507235709, gamma=0.01776084519311968; total time=   6.9s\n",
      "[CV] END ...C=2.061119840772439, gamma=0.0038271838898388823; total time=   6.3s\n",
      "[CV] END ...C=2.061119840772439, gamma=0.0038271838898388823; total time=   6.4s\n",
      "[CV] END ...C=2.061119840772439, gamma=0.0038271838898388823; total time=   6.4s\n",
      "[CV] END ....C=9.471646496373786, gamma=0.016627976174798567; total time=   6.7s\n",
      "[CV] END ....C=9.471646496373786, gamma=0.016627976174798567; total time=   6.7s\n",
      "[CV] END ....C=9.471646496373786, gamma=0.016627976174798567; total time=   6.8s\n",
      "[CV] END ...C=6.857432254687891, gamma=0.0030311587598006577; total time=   6.3s\n",
      "[CV] END ...C=6.857432254687891, gamma=0.0030311587598006577; total time=   6.6s\n",
      "[CV] END ...C=6.857432254687891, gamma=0.0030311587598006577; total time=   6.3s\n",
      "[CV] END ...C=3.756340203079344, gamma=0.0020759833254638915; total time=   6.4s\n",
      "[CV] END ...C=3.756340203079344, gamma=0.0020759833254638915; total time=   6.2s\n",
      "[CV] END ...C=3.756340203079344, gamma=0.0020759833254638915; total time=   6.2s\n",
      "[CV] END ....C=7.741361890416182, gamma=0.017406195192154358; total time=   6.4s\n",
      "[CV] END ....C=7.741361890416182, gamma=0.017406195192154358; total time=   6.6s\n",
      "[CV] END ....C=7.741361890416182, gamma=0.017406195192154358; total time=   6.5s\n",
      "[CV] END ..C=3.3083082503808807, gamma=0.0018732530069439125; total time=   6.4s\n",
      "[CV] END ..C=3.3083082503808807, gamma=0.0018732530069439125; total time=   6.3s\n",
      "[CV] END ..C=3.3083082503808807, gamma=0.0018732530069439125; total time=   6.3s\n",
      "[CV] END ..C=1.6375549406205583, gamma=0.0014395463242025215; total time=   6.8s\n",
      "[CV] END ..C=1.6375549406205583, gamma=0.0014395463242025215; total time=   6.6s\n",
      "[CV] END ..C=1.6375549406205583, gamma=0.0014395463242025215; total time=   6.5s\n",
      "[CV] END ...C=3.4167810800250624, gamma=0.007989649335377652; total time=   6.4s\n",
      "[CV] END ...C=3.4167810800250624, gamma=0.007989649335377652; total time=   7.0s\n",
      "[CV] END ...C=3.4167810800250624, gamma=0.007989649335377652; total time=   6.7s\n",
      "[CV] END ...C=1.398956958497666, gamma=0.0017380574165444707; total time=   7.1s\n",
      "[CV] END ...C=1.398956958497666, gamma=0.0017380574165444707; total time=   6.7s\n",
      "[CV] END ...C=1.398956958497666, gamma=0.0017380574165444707; total time=   6.5s\n",
      "[CV] END ....C=6.209514919445427, gamma=0.017677405949844446; total time=   6.3s\n",
      "[CV] END ....C=6.209514919445427, gamma=0.017677405949844446; total time=   6.3s\n",
      "[CV] END ....C=6.209514919445427, gamma=0.017677405949844446; total time=   6.6s\n",
      "[CV] END .....C=7.314895154090506, gamma=0.02375649610444574; total time=   6.6s\n",
      "[CV] END .....C=7.314895154090506, gamma=0.02375649610444574; total time=   6.7s\n",
      "[CV] END .....C=7.314895154090506, gamma=0.02375649610444574; total time=   6.8s\n",
      "[CV] END ...C=1.1073021645083472, gamma=0.002606671620159893; total time=   6.6s\n",
      "[CV] END ...C=1.1073021645083472, gamma=0.002606671620159893; total time=   7.3s\n",
      "[CV] END ...C=1.1073021645083472, gamma=0.002606671620159893; total time=   7.0s\n",
      "[CV] END .....C=2.4617018779216395, gamma=0.0498977500997944; total time=   6.6s\n",
      "[CV] END .....C=2.4617018779216395, gamma=0.0498977500997944; total time=   6.6s\n",
      "[CV] END .....C=2.4617018779216395, gamma=0.0498977500997944; total time=   6.2s\n",
      "[CV] END ....C=8.111822271241321, gamma=0.002330185118288366; total time=   7.4s\n",
      "[CV] END ....C=8.111822271241321, gamma=0.002330185118288366; total time=   6.8s\n",
      "[CV] END ....C=8.111822271241321, gamma=0.002330185118288366; total time=   6.6s\n",
      "[CV] END ....C=4.344132259740732, gamma=0.001852193403597613; total time=   6.4s\n",
      "[CV] END ....C=4.344132259740732, gamma=0.001852193403597613; total time=   6.1s\n",
      "[CV] END ....C=4.344132259740732, gamma=0.001852193403597613; total time=   6.2s\n",
      "[CV] END ...C=10.161744966307383, gamma=0.010497327887934223; total time=   6.2s\n",
      "[CV] END ...C=10.161744966307383, gamma=0.010497327887934223; total time=   6.3s\n",
      "[CV] END ...C=10.161744966307383, gamma=0.010497327887934223; total time=   6.2s\n",
      "[CV] END ....C=3.469786910990993, gamma=0.054616641516693765; total time=   6.0s\n",
      "[CV] END ....C=3.469786910990993, gamma=0.054616641516693765; total time=   6.3s\n",
      "[CV] END ....C=3.469786910990993, gamma=0.054616641516693765; total time=   6.4s\n",
      "[CV] END ..C=2.3558564283105823, gamma=0.0013008609486508476; total time=   6.4s\n",
      "[CV] END ..C=2.3558564283105823, gamma=0.0013008609486508476; total time=   6.4s\n",
      "[CV] END ..C=2.3558564283105823, gamma=0.0013008609486508476; total time=   6.5s\n",
      "[CV] END ....C=6.104381546198673, gamma=0.026287947020971966; total time=   6.5s\n",
      "[CV] END ....C=6.104381546198673, gamma=0.026287947020971966; total time=   6.3s\n",
      "[CV] END ....C=6.104381546198673, gamma=0.026287947020971966; total time=   6.5s\n",
      "[CV] END ....C=6.313473890435328, gamma=0.054347886595225596; total time=   6.8s\n",
      "[CV] END ....C=6.313473890435328, gamma=0.054347886595225596; total time=   7.3s\n",
      "[CV] END ....C=6.313473890435328, gamma=0.054347886595225596; total time=   6.6s\n",
      "[CV] END ...C=2.3623302810413316, gamma=0.014644729338525128; total time=   6.4s\n",
      "[CV] END ...C=2.3623302810413316, gamma=0.014644729338525128; total time=   6.2s\n",
      "[CV] END ...C=2.3623302810413316, gamma=0.014644729338525128; total time=   6.1s\n",
      "[CV] END .....C=9.261204676242041, gamma=0.04277770508609767; total time=   6.8s\n",
      "[CV] END .....C=9.261204676242041, gamma=0.04277770508609767; total time=   6.9s\n",
      "[CV] END .....C=9.261204676242041, gamma=0.04277770508609767; total time=   7.1s\n",
      "[CV] END ...C=5.461445206050953, gamma=0.0013345050110102027; total time=   6.7s\n",
      "[CV] END ...C=5.461445206050953, gamma=0.0013345050110102027; total time=   6.6s\n",
      "[CV] END ...C=5.461445206050953, gamma=0.0013345050110102027; total time=   6.4s\n",
      "[CV] END ..C=1.8845650602009336, gamma=0.0025628261405842992; total time=   6.5s\n",
      "[CV] END ..C=1.8845650602009336, gamma=0.0025628261405842992; total time=   6.4s\n",
      "[CV] END ..C=1.8845650602009336, gamma=0.0025628261405842992; total time=   6.3s\n",
      "[CV] END ....C=10.772960408160483, gamma=0.04090536910072034; total time=   7.1s\n",
      "[CV] END ....C=10.772960408160483, gamma=0.04090536910072034; total time=   6.6s\n",
      "[CV] END ....C=10.772960408160483, gamma=0.04090536910072034; total time=   7.0s\n",
      "{'C': 6.313473890435328, 'gamma': 0.054347886595225596}\n",
      "mse0.3632161029424994 RMSE 0.6026741266575988\n"
     ]
    }
   ],
   "source": [
    "from sklearn.model_selection import RandomizedSearchCV\n",
    "from scipy.stats import reciprocal, uniform\n",
    "\n",
    "param_distributions = {\"gamma\": reciprocal(0.001, 0.1), \"C\": uniform(1, 10)}\n",
    "rnd_search_cv = RandomizedSearchCV(SVR(), param_distributions, n_iter=30, verbose=2, cv=3)\n",
    "rnd_search_cv.fit(X_train_scaled, y_train)\n",
    "\n",
    "print(rnd_search_cv.best_params_)\n",
    "y_pred = rnd_search_cv.best_estimator_.predict(X_test_scaled)\n",
    "mse = mean_squared_error(y_test, y_pred)\n",
    "print(f\"mse{mse} RMSE {np.sqrt(mse)}\")"
   ]
  },
  {
   "cell_type": "code",
   "execution_count": null,
   "metadata": {},
   "outputs": [],
   "source": []
  }
 ],
 "metadata": {
  "interpreter": {
   "hash": "40a6d3daba109dd36035c486cbe134237beb3103005e5f3b9c526cde33e5461d"
  },
  "kernelspec": {
   "display_name": "Python 3.8.8 ('PandasNumpyMathplotlib')",
   "language": "python",
   "name": "python3"
  },
  "language_info": {
   "codemirror_mode": {
    "name": "ipython",
    "version": 3
   },
   "file_extension": ".py",
   "mimetype": "text/x-python",
   "name": "python",
   "nbconvert_exporter": "python",
   "pygments_lexer": "ipython3",
   "version": "3.8.8"
  },
  "orig_nbformat": 4
 },
 "nbformat": 4,
 "nbformat_minor": 2
}
