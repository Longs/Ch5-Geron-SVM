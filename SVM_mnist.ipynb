{
 "cells": [
  {
   "cell_type": "code",
   "execution_count": 1,
   "metadata": {},
   "outputs": [
    {
     "name": "stdout",
     "output_type": "stream",
     "text": [
      "X: (70000, 784) Y: (70000,)\n"
     ]
    }
   ],
   "source": [
    "from sklearn.datasets import fetch_openml\n",
    "import numpy as np\n",
    "mnist = fetch_openml('mnist_784',version = 1, as_frame= False) #don't need a df - this also speeds the fetch process\n",
    "mnist.keys()\n",
    "X,y = mnist[\"data\"], mnist[\"target\"]\n",
    "print(f\"X: {X.shape} Y: {y.shape}\")\n",
    "y=y.astype(np.uint8)\n",
    "\n",
    "#mnist784 is already in random order, so just take the final 10k out of 70 k as test set\n",
    "X_train, X_test, y_train, y_test = X[:60000], X[60000:], y[:60000], y[60000:]"
   ]
  },
  {
   "cell_type": "code",
   "execution_count": 2,
   "metadata": {},
   "outputs": [],
   "source": [
    "#small scale training set for model"
   ]
  },
  {
   "cell_type": "markdown",
   "metadata": {},
   "source": [
    "# SVM classification on MNIST dataset\n",
    "* One vs rest approach\n",
    "\n"
   ]
  },
  {
   "cell_type": "code",
   "execution_count": 3,
   "metadata": {},
   "outputs": [],
   "source": [
    "# #binary classifier targets for digits from 0 to 9\n",
    "# y_trains = [] \n",
    "# y_tests=[]\n",
    "# for _ in range(0,10):\n",
    "#     y_trains.append(y_train == _)\n",
    "#     y_tests.append(y_test == _)\n",
    "# print(\"debug\")"
   ]
  },
  {
   "cell_type": "code",
   "execution_count": 4,
   "metadata": {},
   "outputs": [],
   "source": [
    "#do NOT use SVC - O(m^2n) - just rely on LinearSVC - i.e. not using non-linear kernel\n",
    "\n",
    "# from sklearn.svm import SVC\n",
    "# from sklearn.preprocessing import StandardScaler\n",
    "# from sklearn.multiclass import OneVsRestClassifier\n",
    "# from sklearn.pipeline import Pipeline\n",
    "# from sklearn.model_selection import cross_val_score\n",
    "\n",
    "# svc_pipeline = Pipeline([\n",
    "#     (\"scaler\",StandardScaler()),\n",
    "#     (\"svc\",SVC(kernel=\"linear\"))\n",
    "# ])\n",
    "\n",
    "# clf = OneVsRestClassifier(svc_pipeline,n_jobs=4).fit(X_train,y_train)\n",
    "# clf.predict(X_test[0])\n",
    "# # svc_s = []\n",
    "# # for _ in range(0,10):\n",
    "# #     svc_s.append(svc_pipeline.fit(X_train,y_trains[_]))\n",
    "# # print(\"done\")\n"
   ]
  },
  {
   "cell_type": "code",
   "execution_count": 5,
   "metadata": {},
   "outputs": [
    {
     "name": "stderr",
     "output_type": "stream",
     "text": [
      "c:\\Users\\micha\\anaconda3\\envs\\PandasNumpyMathplotlib\\lib\\site-packages\\sklearn\\svm\\_base.py:985: ConvergenceWarning: Liblinear failed to converge, increase the number of iterations.\n",
      "  warnings.warn(\"Liblinear failed to converge, increase \"\n"
     ]
    },
    {
     "data": {
      "text/plain": [
       "0.9214"
      ]
     },
     "execution_count": 5,
     "metadata": {},
     "output_type": "execute_result"
    }
   ],
   "source": [
    "from sklearn.svm import LinearSVC #uses OVR by default\n",
    "from sklearn.preprocessing import StandardScaler\n",
    "from sklearn.pipeline import Pipeline\n",
    "from sklearn.metrics import accuracy_score\n",
    "\n",
    "lsvc_clf = Pipeline([\n",
    "    (\"scaler\",StandardScaler()),\n",
    "    (\"lsvc\",LinearSVC(random_state=42))\n",
    "])\n",
    "\n",
    "#testing on the training set to see how well the model fits.\n",
    "lsvc_clf.fit(X_train,y_train)\n",
    "y_pred = lsvc_clf.predict(X_train)\n",
    "accuracy_score(y_train,y_pred)\n"
   ]
  },
  {
   "cell_type": "markdown",
   "metadata": {},
   "source": [
    "* Trying with non-linear kernel\n",
    "* SVC uses OVR and RBF kernel by default\n",
    "* Train on 10000 samples to speed model selection since up to  Om^3 where m = training instances - LinearSVC is O(m)\n",
    "* BUT test on full test set"
   ]
  },
  {
   "cell_type": "code",
   "execution_count": 6,
   "metadata": {},
   "outputs": [
    {
     "name": "stdout",
     "output_type": "stream",
     "text": [
      "0.9378\n"
     ]
    }
   ],
   "source": [
    "from sklearn.svm import SVC #uses OVR by default\n",
    "from sklearn.preprocessing import StandardScaler\n",
    "from sklearn.pipeline import Pipeline\n",
    "from sklearn.metrics import accuracy_score\n",
    "\n",
    "\n",
    "pl_svc = Pipeline ([\n",
    "    (\"scaler\",StandardScaler()),\n",
    "    (\"svc\", SVC())\n",
    "]) #ovr and RBF by default\n",
    "\n",
    "pl_svc.fit(X_train[:10000],y_train[:10000])\n",
    "\n",
    "y_pred = pl_svc.predict(X_test)\n",
    "print(accuracy_score(y_test,y_pred))"
   ]
  },
  {
   "cell_type": "code",
   "execution_count": 7,
   "metadata": {},
   "outputs": [
    {
     "name": "stdout",
     "output_type": "stream",
     "text": [
      "0.9386\n"
     ]
    }
   ],
   "source": [
    "X_train_scaled = StandardScaler().fit_transform(X_train.astype(np.float32))\n",
    "X_test_scaled = StandardScaler().fit_transform(X_test.astype(np.float32))\n",
    "trest = SVC().fit(X_train_scaled[:10000],y_train[:10000])\n",
    "y_pred = trest.predict(X_test_scaled)\n",
    "print(accuracy_score(y_test,y_pred))"
   ]
  },
  {
   "cell_type": "code",
   "execution_count": 8,
   "metadata": {},
   "outputs": [
    {
     "name": "stdout",
     "output_type": "stream",
     "text": [
      "0.9594\n"
     ]
    }
   ],
   "source": [
    "trest2 = SVC().fit(X_train[:10000],y_train[:10000])\n",
    "y_pred = trest2.predict(X_test)\n",
    "print(accuracy_score(y_test,y_pred))"
   ]
  },
  {
   "cell_type": "markdown",
   "metadata": {},
   "source": [
    "# Use RandomizedCV top find good hyperparameters\n",
    "* use on very small test dataset"
   ]
  },
  {
   "cell_type": "markdown",
   "metadata": {},
   "source": [
    "* RBF kernel on 1/6 of training set outperforms Linear on the whole training set\n"
   ]
  },
  {
   "cell_type": "code",
   "execution_count": 11,
   "metadata": {},
   "outputs": [
    {
     "name": "stdout",
     "output_type": "stream",
     "text": [
      "Fitting 3 folds for each of 30 candidates, totalling 90 fits\n",
      "[CV] END ...C=10.015313578091579, gamma=0.006877228971726138; total time=   0.2s\n",
      "[CV] END ...C=10.015313578091579, gamma=0.006877228971726138; total time=   0.1s\n",
      "[CV] END ...C=10.015313578091579, gamma=0.006877228971726138; total time=   0.2s\n",
      "[CV] END .....C=2.652221285239065, gamma=0.04084075367801679; total time=   0.2s\n",
      "[CV] END .....C=2.652221285239065, gamma=0.04084075367801679; total time=   0.2s\n",
      "[CV] END .....C=2.652221285239065, gamma=0.04084075367801679; total time=   0.2s\n",
      "[CV] END .....C=9.605222143937755, gamma=0.05440234752698698; total time=   0.2s\n",
      "[CV] END .....C=9.605222143937755, gamma=0.05440234752698698; total time=   0.2s\n",
      "[CV] END .....C=9.605222143937755, gamma=0.05440234752698698; total time=   0.2s\n",
      "[CV] END ....C=1.406384150661232, gamma=0.005518825731541187; total time=   0.1s\n",
      "[CV] END ....C=1.406384150661232, gamma=0.005518825731541187; total time=   0.1s\n",
      "[CV] END ....C=1.406384150661232, gamma=0.005518825731541187; total time=   0.1s\n",
      "[CV] END ...C=1.2570428941060587, gamma=0.024183662970471503; total time=   0.2s\n",
      "[CV] END ...C=1.2570428941060587, gamma=0.024183662970471503; total time=   0.2s\n",
      "[CV] END ...C=1.2570428941060587, gamma=0.024183662970471503; total time=   0.2s\n",
      "[CV] END ....C=10.538229435935783, gamma=0.03709344869554274; total time=   0.2s\n",
      "[CV] END ....C=10.538229435935783, gamma=0.03709344869554274; total time=   0.2s\n",
      "[CV] END ....C=10.538229435935783, gamma=0.03709344869554274; total time=   0.1s\n",
      "[CV] END ..C=10.471604580379276, gamma=0.0016460079431870026; total time=   0.1s\n",
      "[CV] END ..C=10.471604580379276, gamma=0.0016460079431870026; total time=   0.1s\n",
      "[CV] END ..C=10.471604580379276, gamma=0.0016460079431870026; total time=   0.1s\n",
      "[CV] END ...C=1.1026695196540983, gamma=0.031544628214426045; total time=   0.1s\n",
      "[CV] END ...C=1.1026695196540983, gamma=0.031544628214426045; total time=   0.2s\n",
      "[CV] END ...C=1.1026695196540983, gamma=0.031544628214426045; total time=   0.2s\n",
      "[CV] END ...C=10.327436064680693, gamma=0.001358770664310216; total time=   0.1s\n",
      "[CV] END ...C=10.327436064680693, gamma=0.001358770664310216; total time=   0.1s\n",
      "[CV] END ...C=10.327436064680693, gamma=0.001358770664310216; total time=   0.1s\n",
      "[CV] END ...C=1.5119476857018868, gamma=0.007569484080140517; total time=   0.1s\n",
      "[CV] END ...C=1.5119476857018868, gamma=0.007569484080140517; total time=   0.1s\n",
      "[CV] END ...C=1.5119476857018868, gamma=0.007569484080140517; total time=   0.1s\n",
      "[CV] END ...C=4.6324871921813315, gamma=0.006255044974723194; total time=   0.1s\n",
      "[CV] END ...C=4.6324871921813315, gamma=0.006255044974723194; total time=   0.1s\n",
      "[CV] END ...C=4.6324871921813315, gamma=0.006255044974723194; total time=   0.1s\n",
      "[CV] END ...C=3.3213693050681563, gamma=0.008393601985827044; total time=   0.1s\n",
      "[CV] END ...C=3.3213693050681563, gamma=0.008393601985827044; total time=   0.2s\n",
      "[CV] END ...C=3.3213693050681563, gamma=0.008393601985827044; total time=   0.1s\n",
      "[CV] END .....C=6.82560988581684, gamma=0.002096547846660841; total time=   0.1s\n",
      "[CV] END .....C=6.82560988581684, gamma=0.002096547846660841; total time=   0.1s\n",
      "[CV] END .....C=6.82560988581684, gamma=0.002096547846660841; total time=   0.1s\n",
      "[CV] END ....C=5.452100197284988, gamma=0.027462233946139954; total time=   0.1s\n",
      "[CV] END ....C=5.452100197284988, gamma=0.027462233946139954; total time=   0.1s\n",
      "[CV] END ....C=5.452100197284988, gamma=0.027462233946139954; total time=   0.2s\n",
      "[CV] END .......C=8.976372923970136, gamma=0.048542583303057; total time=   0.2s\n",
      "[CV] END .......C=8.976372923970136, gamma=0.048542583303057; total time=   0.2s\n",
      "[CV] END .......C=8.976372923970136, gamma=0.048542583303057; total time=   0.1s\n",
      "[CV] END .....C=9.771419611849238, gamma=0.05717878915513339; total time=   0.2s\n",
      "[CV] END .....C=9.771419611849238, gamma=0.05717878915513339; total time=   0.2s\n",
      "[CV] END .....C=9.771419611849238, gamma=0.05717878915513339; total time=   0.1s\n",
      "[CV] END ...C=6.8509792126981255, gamma=0.019687973301548575; total time=   0.2s\n",
      "[CV] END ...C=6.8509792126981255, gamma=0.019687973301548575; total time=   0.2s\n",
      "[CV] END ...C=6.8509792126981255, gamma=0.019687973301548575; total time=   0.2s\n",
      "[CV] END .....C=5.684097837003729, gamma=0.05635294516044054; total time=   0.2s\n",
      "[CV] END .....C=5.684097837003729, gamma=0.05635294516044054; total time=   0.1s\n",
      "[CV] END .....C=5.684097837003729, gamma=0.05635294516044054; total time=   0.1s\n",
      "[CV] END ...C=8.286625146463873, gamma=0.0013982502855165206; total time=   0.1s\n",
      "[CV] END ...C=8.286625146463873, gamma=0.0013982502855165206; total time=   0.1s\n",
      "[CV] END ...C=8.286625146463873, gamma=0.0013982502855165206; total time=   0.1s\n",
      "[CV] END ...C=8.273870730340834, gamma=0.0023934627106810746; total time=   0.1s\n",
      "[CV] END ...C=8.273870730340834, gamma=0.0023934627106810746; total time=   0.1s\n",
      "[CV] END ...C=8.273870730340834, gamma=0.0023934627106810746; total time=   0.1s\n",
      "[CV] END ....C=2.121221677309512, gamma=0.001895341055945992; total time=   0.1s\n",
      "[CV] END ....C=2.121221677309512, gamma=0.001895341055945992; total time=   0.1s\n",
      "[CV] END ....C=2.121221677309512, gamma=0.001895341055945992; total time=   0.1s\n",
      "[CV] END ...C=4.1102831270817175, gamma=0.008559947947608872; total time=   0.1s\n",
      "[CV] END ...C=4.1102831270817175, gamma=0.008559947947608872; total time=   0.1s\n",
      "[CV] END ...C=4.1102831270817175, gamma=0.008559947947608872; total time=   0.1s\n",
      "[CV] END ...C=10.603868054869409, gamma=0.013159630230627859; total time=   0.1s\n",
      "[CV] END ...C=10.603868054869409, gamma=0.013159630230627859; total time=   0.1s\n",
      "[CV] END ...C=10.603868054869409, gamma=0.013159630230627859; total time=   0.2s\n",
      "[CV] END ..C=1.7578210563565302, gamma=0.0036387541245568025; total time=   0.1s\n",
      "[CV] END ..C=1.7578210563565302, gamma=0.0036387541245568025; total time=   0.1s\n",
      "[CV] END ..C=1.7578210563565302, gamma=0.0036387541245568025; total time=   0.1s\n",
      "[CV] END .....C=6.430727161681148, gamma=0.04335042024550011; total time=   0.2s\n",
      "[CV] END .....C=6.430727161681148, gamma=0.04335042024550011; total time=   0.2s\n",
      "[CV] END .....C=6.430727161681148, gamma=0.04335042024550011; total time=   0.2s\n",
      "[CV] END ....C=1.0644302945156083, gamma=0.01737738328719415; total time=   0.2s\n",
      "[CV] END ....C=1.0644302945156083, gamma=0.01737738328719415; total time=   0.2s\n",
      "[CV] END ....C=1.0644302945156083, gamma=0.01737738328719415; total time=   0.2s\n",
      "[CV] END .....C=5.558389488249795, gamma=0.08770766660352164; total time=   0.2s\n",
      "[CV] END .....C=5.558389488249795, gamma=0.08770766660352164; total time=   0.2s\n",
      "[CV] END .....C=5.558389488249795, gamma=0.08770766660352164; total time=   0.1s\n",
      "[CV] END ...C=6.804756518504014, gamma=0.0013553515761171918; total time=   0.1s\n",
      "[CV] END ...C=6.804756518504014, gamma=0.0013553515761171918; total time=   0.1s\n",
      "[CV] END ...C=6.804756518504014, gamma=0.0013553515761171918; total time=   0.1s\n",
      "[CV] END .....C=9.88856135779568, gamma=0.002696910995307844; total time=   0.1s\n",
      "[CV] END .....C=9.88856135779568, gamma=0.002696910995307844; total time=   0.1s\n",
      "[CV] END .....C=9.88856135779568, gamma=0.002696910995307844; total time=   0.1s\n",
      "[CV] END .....C=8.859612256995955, gamma=0.08579919985014693; total time=   0.1s\n",
      "[CV] END .....C=8.859612256995955, gamma=0.08579919985014693; total time=   0.1s\n",
      "[CV] END .....C=8.859612256995955, gamma=0.08579919985014693; total time=   0.1s\n"
     ]
    },
    {
     "data": {
      "text/plain": [
       "RandomizedSearchCV(cv=3, estimator=SVC(), n_iter=30,\n",
       "                   param_distributions={'C': <scipy.stats._distn_infrastructure.rv_frozen object at 0x0000019F992E85E0>,\n",
       "                                        'gamma': <scipy.stats._distn_infrastructure.rv_frozen object at 0x0000019F992C1B50>},\n",
       "                   verbose=2)"
      ]
     },
     "execution_count": 11,
     "metadata": {},
     "output_type": "execute_result"
    }
   ],
   "source": [
    "from sklearn.model_selection import RandomizedSearchCV\n",
    "from scipy.stats import reciprocal, uniform\n",
    "\n",
    "param_distributions = {\"gamma\": reciprocal(0.001, 0.1), \"C\": uniform(1, 10)}\n",
    "rnd_search_cv = RandomizedSearchCV(SVC(), param_distributions, n_iter=30, verbose=2, cv=3)\n",
    "rnd_search_cv.fit(X_train_scaled[:1000], y_train[:1000])"
   ]
  },
  {
   "cell_type": "code",
   "execution_count": 14,
   "metadata": {},
   "outputs": [
    {
     "name": "stdout",
     "output_type": "stream",
     "text": [
      "{'C': 8.286625146463873, 'gamma': 0.0013982502855165206}\n"
     ]
    },
    {
     "data": {
      "text/plain": [
       "0.8793"
      ]
     },
     "execution_count": 14,
     "metadata": {},
     "output_type": "execute_result"
    }
   ],
   "source": [
    "print(rnd_search_cv.best_params_)\n",
    "y_pred = rnd_search_cv.best_estimator_.predict(X_test_scaled)\n",
    "accuracy_score(y_test, y_pred)"
   ]
  },
  {
   "cell_type": "markdown",
   "metadata": {},
   "source": [
    "Look at test performance on different fractions of the training set\n",
    "* Increasing level from 1/6 to whole of training set increases test set performance"
   ]
  },
  {
   "cell_type": "code",
   "execution_count": 15,
   "metadata": {},
   "outputs": [
    {
     "data": {
      "text/plain": [
       "0.9464"
      ]
     },
     "execution_count": 15,
     "metadata": {},
     "output_type": "execute_result"
    }
   ],
   "source": [
    "rnd_search_cv.best_estimator_.fit(X_train_scaled[:10000], y_train[:10000])\n",
    "y_pred = rnd_search_cv.best_estimator_.predict(X_test_scaled)\n",
    "accuracy_score(y_test, y_pred)"
   ]
  },
  {
   "cell_type": "code",
   "execution_count": 16,
   "metadata": {},
   "outputs": [
    {
     "data": {
      "text/plain": [
       "0.9607"
      ]
     },
     "execution_count": 16,
     "metadata": {},
     "output_type": "execute_result"
    }
   ],
   "source": [
    "#And on the 20k set\n",
    "rnd_search_cv.best_estimator_.fit(X_train_scaled[:20000], y_train[:20000])\n",
    "y_pred = rnd_search_cv.best_estimator_.predict(X_test_scaled)\n",
    "accuracy_score(y_test, y_pred)"
   ]
  },
  {
   "cell_type": "code",
   "execution_count": 17,
   "metadata": {},
   "outputs": [
    {
     "data": {
      "text/plain": [
       "0.9648"
      ]
     },
     "execution_count": 17,
     "metadata": {},
     "output_type": "execute_result"
    }
   ],
   "source": [
    "rnd_search_cv.best_estimator_.fit(X_train_scaled[:30000], y_train[:30000])\n",
    "y_pred = rnd_search_cv.best_estimator_.predict(X_test_scaled)\n",
    "accuracy_score(y_test, y_pred)"
   ]
  },
  {
   "cell_type": "code",
   "execution_count": 18,
   "metadata": {},
   "outputs": [
    {
     "data": {
      "text/plain": [
       "0.9677"
      ]
     },
     "execution_count": 18,
     "metadata": {},
     "output_type": "execute_result"
    }
   ],
   "source": [
    "rnd_search_cv.best_estimator_.fit(X_train_scaled[:40000], y_train[:40000])\n",
    "y_pred = rnd_search_cv.best_estimator_.predict(X_test_scaled)\n",
    "accuracy_score(y_test, y_pred)"
   ]
  },
  {
   "cell_type": "code",
   "execution_count": 19,
   "metadata": {},
   "outputs": [
    {
     "data": {
      "text/plain": [
       "0.972"
      ]
     },
     "execution_count": 19,
     "metadata": {},
     "output_type": "execute_result"
    }
   ],
   "source": [
    "rnd_search_cv.best_estimator_.fit(X_train_scaled, y_train)\n",
    "y_pred = rnd_search_cv.best_estimator_.predict(X_test_scaled)\n",
    "accuracy_score(y_test, y_pred)"
   ]
  },
  {
   "cell_type": "code",
   "execution_count": 20,
   "metadata": {},
   "outputs": [
    {
     "data": {
      "text/plain": [
       "0.9991"
      ]
     },
     "execution_count": 20,
     "metadata": {},
     "output_type": "execute_result"
    }
   ],
   "source": [
    "y_pred_train = rnd_search_cv.best_estimator_.predict(X_train_scaled)\n",
    "accuracy_score(y_train, y_pred_train)"
   ]
  },
  {
   "cell_type": "markdown",
   "metadata": {},
   "source": [
    "* 97.2% on test set, 99.9% on training set so still overfitting\n",
    "* cannot run SVC on 2d array"
   ]
  },
  {
   "cell_type": "markdown",
   "metadata": {},
   "source": [
    "Try fitting on 28x28 rather than 784 linear:"
   ]
  },
  {
   "cell_type": "code",
   "execution_count": 4,
   "metadata": {},
   "outputs": [],
   "source": [
    "X_2d = X.reshape(70000,28,28)\n",
    "X_2d_train, X_2d_test = X_2d[:60000], X_2d[60000:]\n"
   ]
  },
  {
   "cell_type": "code",
   "execution_count": 6,
   "metadata": {},
   "outputs": [
    {
     "ename": "ValueError",
     "evalue": "Found array with dim 3. Estimator expected <= 2.",
     "output_type": "error",
     "traceback": [
      "\u001b[1;31m---------------------------------------------------------------------------\u001b[0m",
      "\u001b[1;31mValueError\u001b[0m                                Traceback (most recent call last)",
      "\u001b[1;32m~\\AppData\\Local\\Temp/ipykernel_17440/3337985929.py\u001b[0m in \u001b[0;36m<module>\u001b[1;34m\u001b[0m\n\u001b[0;32m     14\u001b[0m ]) #ovr and RBF by default\n\u001b[0;32m     15\u001b[0m \u001b[1;33m\u001b[0m\u001b[0m\n\u001b[1;32m---> 16\u001b[1;33m \u001b[0mpl_svc\u001b[0m\u001b[1;33m.\u001b[0m\u001b[0mfit\u001b[0m\u001b[1;33m(\u001b[0m\u001b[0mX_2d_train\u001b[0m\u001b[1;33m[\u001b[0m\u001b[1;33m:\u001b[0m\u001b[1;36m10000\u001b[0m\u001b[1;33m]\u001b[0m\u001b[1;33m,\u001b[0m\u001b[0my_train\u001b[0m\u001b[1;33m[\u001b[0m\u001b[1;33m:\u001b[0m\u001b[1;36m10000\u001b[0m\u001b[1;33m]\u001b[0m\u001b[1;33m)\u001b[0m\u001b[1;33m\u001b[0m\u001b[1;33m\u001b[0m\u001b[0m\n\u001b[0m\u001b[0;32m     17\u001b[0m \u001b[1;33m\u001b[0m\u001b[0m\n\u001b[0;32m     18\u001b[0m \u001b[0my_pred_2d\u001b[0m \u001b[1;33m=\u001b[0m \u001b[0mpl_svc\u001b[0m\u001b[1;33m.\u001b[0m\u001b[0mpredict\u001b[0m\u001b[1;33m(\u001b[0m\u001b[0mX_2d_test\u001b[0m\u001b[1;33m)\u001b[0m\u001b[1;33m\u001b[0m\u001b[1;33m\u001b[0m\u001b[0m\n",
      "\u001b[1;32mc:\\Users\\micha\\anaconda3\\envs\\PandasNumpyMathplotlib\\lib\\site-packages\\sklearn\\pipeline.py\u001b[0m in \u001b[0;36mfit\u001b[1;34m(self, X, y, **fit_params)\u001b[0m\n\u001b[0;32m    344\u001b[0m             \u001b[1;32mif\u001b[0m \u001b[0mself\u001b[0m\u001b[1;33m.\u001b[0m\u001b[0m_final_estimator\u001b[0m \u001b[1;33m!=\u001b[0m \u001b[1;34m'passthrough'\u001b[0m\u001b[1;33m:\u001b[0m\u001b[1;33m\u001b[0m\u001b[1;33m\u001b[0m\u001b[0m\n\u001b[0;32m    345\u001b[0m                 \u001b[0mfit_params_last_step\u001b[0m \u001b[1;33m=\u001b[0m \u001b[0mfit_params_steps\u001b[0m\u001b[1;33m[\u001b[0m\u001b[0mself\u001b[0m\u001b[1;33m.\u001b[0m\u001b[0msteps\u001b[0m\u001b[1;33m[\u001b[0m\u001b[1;33m-\u001b[0m\u001b[1;36m1\u001b[0m\u001b[1;33m]\u001b[0m\u001b[1;33m[\u001b[0m\u001b[1;36m0\u001b[0m\u001b[1;33m]\u001b[0m\u001b[1;33m]\u001b[0m\u001b[1;33m\u001b[0m\u001b[1;33m\u001b[0m\u001b[0m\n\u001b[1;32m--> 346\u001b[1;33m                 \u001b[0mself\u001b[0m\u001b[1;33m.\u001b[0m\u001b[0m_final_estimator\u001b[0m\u001b[1;33m.\u001b[0m\u001b[0mfit\u001b[0m\u001b[1;33m(\u001b[0m\u001b[0mXt\u001b[0m\u001b[1;33m,\u001b[0m \u001b[0my\u001b[0m\u001b[1;33m,\u001b[0m \u001b[1;33m**\u001b[0m\u001b[0mfit_params_last_step\u001b[0m\u001b[1;33m)\u001b[0m\u001b[1;33m\u001b[0m\u001b[1;33m\u001b[0m\u001b[0m\n\u001b[0m\u001b[0;32m    347\u001b[0m \u001b[1;33m\u001b[0m\u001b[0m\n\u001b[0;32m    348\u001b[0m         \u001b[1;32mreturn\u001b[0m \u001b[0mself\u001b[0m\u001b[1;33m\u001b[0m\u001b[1;33m\u001b[0m\u001b[0m\n",
      "\u001b[1;32mc:\\Users\\micha\\anaconda3\\envs\\PandasNumpyMathplotlib\\lib\\site-packages\\sklearn\\svm\\_base.py\u001b[0m in \u001b[0;36mfit\u001b[1;34m(self, X, y, sample_weight)\u001b[0m\n\u001b[0;32m    167\u001b[0m             \u001b[0mcheck_consistent_length\u001b[0m\u001b[1;33m(\u001b[0m\u001b[0mX\u001b[0m\u001b[1;33m,\u001b[0m \u001b[0my\u001b[0m\u001b[1;33m)\u001b[0m\u001b[1;33m\u001b[0m\u001b[1;33m\u001b[0m\u001b[0m\n\u001b[0;32m    168\u001b[0m         \u001b[1;32melse\u001b[0m\u001b[1;33m:\u001b[0m\u001b[1;33m\u001b[0m\u001b[1;33m\u001b[0m\u001b[0m\n\u001b[1;32m--> 169\u001b[1;33m             X, y = self._validate_data(X, y, dtype=np.float64,\n\u001b[0m\u001b[0;32m    170\u001b[0m                                        \u001b[0morder\u001b[0m\u001b[1;33m=\u001b[0m\u001b[1;34m'C'\u001b[0m\u001b[1;33m,\u001b[0m \u001b[0maccept_sparse\u001b[0m\u001b[1;33m=\u001b[0m\u001b[1;34m'csr'\u001b[0m\u001b[1;33m,\u001b[0m\u001b[1;33m\u001b[0m\u001b[1;33m\u001b[0m\u001b[0m\n\u001b[0;32m    171\u001b[0m                                        accept_large_sparse=False)\n",
      "\u001b[1;32mc:\\Users\\micha\\anaconda3\\envs\\PandasNumpyMathplotlib\\lib\\site-packages\\sklearn\\base.py\u001b[0m in \u001b[0;36m_validate_data\u001b[1;34m(self, X, y, reset, validate_separately, **check_params)\u001b[0m\n\u001b[0;32m    431\u001b[0m                 \u001b[0my\u001b[0m \u001b[1;33m=\u001b[0m \u001b[0mcheck_array\u001b[0m\u001b[1;33m(\u001b[0m\u001b[0my\u001b[0m\u001b[1;33m,\u001b[0m \u001b[1;33m**\u001b[0m\u001b[0mcheck_y_params\u001b[0m\u001b[1;33m)\u001b[0m\u001b[1;33m\u001b[0m\u001b[1;33m\u001b[0m\u001b[0m\n\u001b[0;32m    432\u001b[0m             \u001b[1;32melse\u001b[0m\u001b[1;33m:\u001b[0m\u001b[1;33m\u001b[0m\u001b[1;33m\u001b[0m\u001b[0m\n\u001b[1;32m--> 433\u001b[1;33m                 \u001b[0mX\u001b[0m\u001b[1;33m,\u001b[0m \u001b[0my\u001b[0m \u001b[1;33m=\u001b[0m \u001b[0mcheck_X_y\u001b[0m\u001b[1;33m(\u001b[0m\u001b[0mX\u001b[0m\u001b[1;33m,\u001b[0m \u001b[0my\u001b[0m\u001b[1;33m,\u001b[0m \u001b[1;33m**\u001b[0m\u001b[0mcheck_params\u001b[0m\u001b[1;33m)\u001b[0m\u001b[1;33m\u001b[0m\u001b[1;33m\u001b[0m\u001b[0m\n\u001b[0m\u001b[0;32m    434\u001b[0m             \u001b[0mout\u001b[0m \u001b[1;33m=\u001b[0m \u001b[0mX\u001b[0m\u001b[1;33m,\u001b[0m \u001b[0my\u001b[0m\u001b[1;33m\u001b[0m\u001b[1;33m\u001b[0m\u001b[0m\n\u001b[0;32m    435\u001b[0m \u001b[1;33m\u001b[0m\u001b[0m\n",
      "\u001b[1;32mc:\\Users\\micha\\anaconda3\\envs\\PandasNumpyMathplotlib\\lib\\site-packages\\sklearn\\utils\\validation.py\u001b[0m in \u001b[0;36minner_f\u001b[1;34m(*args, **kwargs)\u001b[0m\n\u001b[0;32m     61\u001b[0m             \u001b[0mextra_args\u001b[0m \u001b[1;33m=\u001b[0m \u001b[0mlen\u001b[0m\u001b[1;33m(\u001b[0m\u001b[0margs\u001b[0m\u001b[1;33m)\u001b[0m \u001b[1;33m-\u001b[0m \u001b[0mlen\u001b[0m\u001b[1;33m(\u001b[0m\u001b[0mall_args\u001b[0m\u001b[1;33m)\u001b[0m\u001b[1;33m\u001b[0m\u001b[1;33m\u001b[0m\u001b[0m\n\u001b[0;32m     62\u001b[0m             \u001b[1;32mif\u001b[0m \u001b[0mextra_args\u001b[0m \u001b[1;33m<=\u001b[0m \u001b[1;36m0\u001b[0m\u001b[1;33m:\u001b[0m\u001b[1;33m\u001b[0m\u001b[1;33m\u001b[0m\u001b[0m\n\u001b[1;32m---> 63\u001b[1;33m                 \u001b[1;32mreturn\u001b[0m \u001b[0mf\u001b[0m\u001b[1;33m(\u001b[0m\u001b[1;33m*\u001b[0m\u001b[0margs\u001b[0m\u001b[1;33m,\u001b[0m \u001b[1;33m**\u001b[0m\u001b[0mkwargs\u001b[0m\u001b[1;33m)\u001b[0m\u001b[1;33m\u001b[0m\u001b[1;33m\u001b[0m\u001b[0m\n\u001b[0m\u001b[0;32m     64\u001b[0m \u001b[1;33m\u001b[0m\u001b[0m\n\u001b[0;32m     65\u001b[0m             \u001b[1;31m# extra_args > 0\u001b[0m\u001b[1;33m\u001b[0m\u001b[1;33m\u001b[0m\u001b[1;33m\u001b[0m\u001b[0m\n",
      "\u001b[1;32mc:\\Users\\micha\\anaconda3\\envs\\PandasNumpyMathplotlib\\lib\\site-packages\\sklearn\\utils\\validation.py\u001b[0m in \u001b[0;36mcheck_X_y\u001b[1;34m(X, y, accept_sparse, accept_large_sparse, dtype, order, copy, force_all_finite, ensure_2d, allow_nd, multi_output, ensure_min_samples, ensure_min_features, y_numeric, estimator)\u001b[0m\n\u001b[0;32m    869\u001b[0m         \u001b[1;32mraise\u001b[0m \u001b[0mValueError\u001b[0m\u001b[1;33m(\u001b[0m\u001b[1;34m\"y cannot be None\"\u001b[0m\u001b[1;33m)\u001b[0m\u001b[1;33m\u001b[0m\u001b[1;33m\u001b[0m\u001b[0m\n\u001b[0;32m    870\u001b[0m \u001b[1;33m\u001b[0m\u001b[0m\n\u001b[1;32m--> 871\u001b[1;33m     X = check_array(X, accept_sparse=accept_sparse,\n\u001b[0m\u001b[0;32m    872\u001b[0m                     \u001b[0maccept_large_sparse\u001b[0m\u001b[1;33m=\u001b[0m\u001b[0maccept_large_sparse\u001b[0m\u001b[1;33m,\u001b[0m\u001b[1;33m\u001b[0m\u001b[1;33m\u001b[0m\u001b[0m\n\u001b[0;32m    873\u001b[0m                     \u001b[0mdtype\u001b[0m\u001b[1;33m=\u001b[0m\u001b[0mdtype\u001b[0m\u001b[1;33m,\u001b[0m \u001b[0morder\u001b[0m\u001b[1;33m=\u001b[0m\u001b[0morder\u001b[0m\u001b[1;33m,\u001b[0m \u001b[0mcopy\u001b[0m\u001b[1;33m=\u001b[0m\u001b[0mcopy\u001b[0m\u001b[1;33m,\u001b[0m\u001b[1;33m\u001b[0m\u001b[1;33m\u001b[0m\u001b[0m\n",
      "\u001b[1;32mc:\\Users\\micha\\anaconda3\\envs\\PandasNumpyMathplotlib\\lib\\site-packages\\sklearn\\utils\\validation.py\u001b[0m in \u001b[0;36minner_f\u001b[1;34m(*args, **kwargs)\u001b[0m\n\u001b[0;32m     61\u001b[0m             \u001b[0mextra_args\u001b[0m \u001b[1;33m=\u001b[0m \u001b[0mlen\u001b[0m\u001b[1;33m(\u001b[0m\u001b[0margs\u001b[0m\u001b[1;33m)\u001b[0m \u001b[1;33m-\u001b[0m \u001b[0mlen\u001b[0m\u001b[1;33m(\u001b[0m\u001b[0mall_args\u001b[0m\u001b[1;33m)\u001b[0m\u001b[1;33m\u001b[0m\u001b[1;33m\u001b[0m\u001b[0m\n\u001b[0;32m     62\u001b[0m             \u001b[1;32mif\u001b[0m \u001b[0mextra_args\u001b[0m \u001b[1;33m<=\u001b[0m \u001b[1;36m0\u001b[0m\u001b[1;33m:\u001b[0m\u001b[1;33m\u001b[0m\u001b[1;33m\u001b[0m\u001b[0m\n\u001b[1;32m---> 63\u001b[1;33m                 \u001b[1;32mreturn\u001b[0m \u001b[0mf\u001b[0m\u001b[1;33m(\u001b[0m\u001b[1;33m*\u001b[0m\u001b[0margs\u001b[0m\u001b[1;33m,\u001b[0m \u001b[1;33m**\u001b[0m\u001b[0mkwargs\u001b[0m\u001b[1;33m)\u001b[0m\u001b[1;33m\u001b[0m\u001b[1;33m\u001b[0m\u001b[0m\n\u001b[0m\u001b[0;32m     64\u001b[0m \u001b[1;33m\u001b[0m\u001b[0m\n\u001b[0;32m     65\u001b[0m             \u001b[1;31m# extra_args > 0\u001b[0m\u001b[1;33m\u001b[0m\u001b[1;33m\u001b[0m\u001b[1;33m\u001b[0m\u001b[0m\n",
      "\u001b[1;32mc:\\Users\\micha\\anaconda3\\envs\\PandasNumpyMathplotlib\\lib\\site-packages\\sklearn\\utils\\validation.py\u001b[0m in \u001b[0;36mcheck_array\u001b[1;34m(array, accept_sparse, accept_large_sparse, dtype, order, copy, force_all_finite, ensure_2d, allow_nd, ensure_min_samples, ensure_min_features, estimator)\u001b[0m\n\u001b[0;32m    714\u001b[0m                     \"into decimal numbers with dtype='numeric'\") from e\n\u001b[0;32m    715\u001b[0m         \u001b[1;32mif\u001b[0m \u001b[1;32mnot\u001b[0m \u001b[0mallow_nd\u001b[0m \u001b[1;32mand\u001b[0m \u001b[0marray\u001b[0m\u001b[1;33m.\u001b[0m\u001b[0mndim\u001b[0m \u001b[1;33m>=\u001b[0m \u001b[1;36m3\u001b[0m\u001b[1;33m:\u001b[0m\u001b[1;33m\u001b[0m\u001b[1;33m\u001b[0m\u001b[0m\n\u001b[1;32m--> 716\u001b[1;33m             raise ValueError(\"Found array with dim %d. %s expected <= 2.\"\n\u001b[0m\u001b[0;32m    717\u001b[0m                              % (array.ndim, estimator_name))\n\u001b[0;32m    718\u001b[0m \u001b[1;33m\u001b[0m\u001b[0m\n",
      "\u001b[1;31mValueError\u001b[0m: Found array with dim 3. Estimator expected <= 2."
     ]
    }
   ],
   "source": [
    "from sklearn.svm import SVC #uses OVR by default\n",
    "from sklearn.preprocessing import StandardScaler\n",
    "from sklearn.pipeline import Pipeline\n",
    "from sklearn.metrics import accuracy_score\n",
    "\n",
    "\n",
    "# pl_svc = Pipeline ([\n",
    "#     (\"scaler\",StandardScaler()),\n",
    "#     (\"svc\", SVC())\n",
    "# ]) #ovr and RBF by default\n",
    "\n",
    "pl_svc = Pipeline ([\n",
    "    (\"svc\", SVC())\n",
    "]) #ovr and RBF by default\n",
    "\n",
    "pl_svc.fit(X_2d_train[:10000],y_train[:10000])\n",
    "\n",
    "y_pred_2d = pl_svc.predict(X_2d_test)\n",
    "print(accuracy_score(y_test,y_pred_2d))\n"
   ]
  }
 ],
 "metadata": {
  "interpreter": {
   "hash": "40a6d3daba109dd36035c486cbe134237beb3103005e5f3b9c526cde33e5461d"
  },
  "kernelspec": {
   "display_name": "Python 3.8.8 ('PandasNumpyMathplotlib')",
   "language": "python",
   "name": "python3"
  },
  "language_info": {
   "codemirror_mode": {
    "name": "ipython",
    "version": 3
   },
   "file_extension": ".py",
   "mimetype": "text/x-python",
   "name": "python",
   "nbconvert_exporter": "python",
   "pygments_lexer": "ipython3",
   "version": "3.8.8"
  },
  "orig_nbformat": 4
 },
 "nbformat": 4,
 "nbformat_minor": 2
}
